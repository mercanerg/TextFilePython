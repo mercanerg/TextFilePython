{
 "cells": [
  {
   "cell_type": "code",
   "execution_count": 1,
   "id": "ec5a50c7-851a-4e27-b32a-6ec7602a3244",
   "metadata": {},
   "outputs": [],
   "source": [
    "def read_file():\n",
    "    try:\n",
    "        sea_file = open(\"text_files\\\\fishes.txt\", \"r\")\n",
    "        text = sea_file.readlines()\n",
    "    except Exception as err:\n",
    "        errno, strerror = err.args\n",
    "        print(f\"Error Number > {errno}   Error String > {strerror} \")\n",
    "        if errno == 2:\n",
    "            print(\"check file or folder name\")\n",
    "    else:\n",
    "        print(\"fishes.txt was opened in read mode\")\n",
    "        return text # return text which is got from the text file as a list\n",
    "        sea_file.close()"
   ]
  },
  {
   "cell_type": "code",
   "execution_count": 2,
   "id": "0bd7f00d-6e8c-4827-afa7-b11ac95d6cac",
   "metadata": {},
   "outputs": [
    {
     "name": "stdout",
     "output_type": "stream",
     "text": [
      "fishes.txt was opened in read mode\n"
     ]
    }
   ],
   "source": [
    "text_string = read_file()"
   ]
  },
  {
   "cell_type": "code",
   "execution_count": 39,
   "id": "0dbee882-5502-483d-9191-a5d1b5745ad3",
   "metadata": {},
   "outputs": [],
   "source": [
    "import string\n",
    "word_dict = {}\n",
    "text = list(text_string)\n",
    "for line in text:\n",
    "    word_list = line.split(sep=\" \")\n",
    "    for word in  word_list:\n",
    "        word = word.replace(\"\\n\", \"\")\n",
    "        word = word.lower()\n",
    "        for character in string.punctuation:\n",
    "            word = word.replace(character, '')\n",
    "        if word in word_dict.keys():\n",
    "            word_dict[word] += 1\n",
    "        else:\n",
    "            t = {word : 1}\n",
    "        word_dict.update(t)  \n"
   ]
  },
  {
   "cell_type": "code",
   "execution_count": 40,
   "id": "d09cc9c2-1d36-4b0d-9e6d-fe78e9dd4ce5",
   "metadata": {},
   "outputs": [
    {
     "data": {
      "text/plain": [
       "{'orca': 1,\n",
       " 'is': 4,\n",
       " 'a': 3,\n",
       " 'kind': 1,\n",
       " 'of': 3,\n",
       " 'dolphin': 1,\n",
       " 'blue': 1,\n",
       " 'whale': 1,\n",
       " 'the': 9,\n",
       " 'largest': 1,\n",
       " 'animal': 1,\n",
       " 'known': 1,\n",
       " 'on': 1,\n",
       " 'earth': 1,\n",
       " 'sharks': 1,\n",
       " 'are': 2,\n",
       " 'sister': 1,\n",
       " 'group': 1,\n",
       " 'to': 4,\n",
       " 'rays': 1,\n",
       " 'batoids': 1,\n",
       " 'tuna': 1,\n",
       " 'fish': 1,\n",
       " 'can': 1,\n",
       " 'weigh': 1,\n",
       " 'up': 1,\n",
       " '260': 1,\n",
       " 'kg': 1,\n",
       " 'squid': 1,\n",
       " 'and': 1,\n",
       " 'octopus': 1,\n",
       " 'in': 1,\n",
       " 'same': 1,\n",
       " 'class': 1,\n",
       " '': 2,\n",
       " 'these': 2,\n",
       " 'crazy': 2,\n",
       " 'looking': 2,\n",
       " 'marine': 2,\n",
       " 'animals': 2,\n",
       " 'wave': 2,\n",
       " 'their': 2,\n",
       " '“feathers”': 2,\n",
       " 'get': 2,\n",
       " 'around': 2,\n",
       " 'underwater': 2,\n",
       " 'glaucus': 2,\n",
       " 'atlanticus': 2,\n",
       " 'aka': 2,\n",
       " '“blue': 2,\n",
       " 'dragon”': 2,\n",
       " 'type': 2,\n",
       " 'stinging': 2,\n",
       " 'sea': 2,\n",
       " 'slug': 1}"
      ]
     },
     "execution_count": 40,
     "metadata": {},
     "output_type": "execute_result"
    }
   ],
   "source": [
    "word_dict"
   ]
  },
  {
   "cell_type": "code",
   "execution_count": null,
   "id": "07943087-aeb4-4a32-a8b8-9d32b6199c62",
   "metadata": {},
   "outputs": [],
   "source": []
  },
  {
   "cell_type": "code",
   "execution_count": null,
   "id": "4682e354-d3d9-4950-b809-b25109de7032",
   "metadata": {},
   "outputs": [],
   "source": []
  }
 ],
 "metadata": {
  "kernelspec": {
   "display_name": "Python 3 (ipykernel)",
   "language": "python",
   "name": "python3"
  },
  "language_info": {
   "codemirror_mode": {
    "name": "ipython",
    "version": 3
   },
   "file_extension": ".py",
   "mimetype": "text/x-python",
   "name": "python",
   "nbconvert_exporter": "python",
   "pygments_lexer": "ipython3",
   "version": "3.9.7"
  }
 },
 "nbformat": 4,
 "nbformat_minor": 5
}
