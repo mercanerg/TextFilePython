{
 "cells": [
  {
   "cell_type": "code",
   "execution_count": 1,
   "id": "ca6f698e-be5c-4e0a-869a-9834853819b2",
   "metadata": {},
   "outputs": [],
   "source": [
    "def generate_file(text):\n",
    "    try:\n",
    "        sea_file = open(\"text_files\\\\fishes.txt\", \"w\")\n",
    "        sea_file.write(text)\n",
    "    except Exception as err:\n",
    "        errno, strerror = err.args\n",
    "        print(f\"Error Number > {errno}   Error String > {strerror} \")\n",
    "        if errno == 2:\n",
    "            print(\"check file or folder name\")\n",
    "    else:\n",
    "        print(\"fishes.txt was created successfully and the text was written into it\")\n",
    "        sea_file.close()"
   ]
  },
  {
   "cell_type": "code",
   "execution_count": 2,
   "id": "6fb91819-957b-40c2-b8d7-4850205e2dd7",
   "metadata": {},
   "outputs": [],
   "source": [
    "def append_file(text):\n",
    "    try:\n",
    "        sea_file = open(\"text_files\\\\fishes.txt\", \"a\")\n",
    "        sea_file.write(text)\n",
    "    except Exception as err:\n",
    "        errno, strerror = err.args\n",
    "        print(f\"Error Number > {errno}   Error String > {strerror} \")\n",
    "        if errno == 2:\n",
    "            print(\"check file or folder name\")\n",
    "    else:\n",
    "        print(\"the text was appended into the text file\")\n",
    "        sea_file.close()"
   ]
  },
  {
   "cell_type": "code",
   "execution_count": 3,
   "id": "032d5f38-cc13-4436-94e2-232e4059e722",
   "metadata": {},
   "outputs": [],
   "source": [
    "text = \"\"\"These crazy looking marine animals wave their “feathers” to get around underwater.\n",
    "The glaucus atlanticus, aka. the “blue dragon” is a type of stinging sea slug! \"\"\"\n",
    "#append_file(text)"
   ]
  },
  {
   "cell_type": "code",
   "execution_count": 4,
   "id": "036f839e-31dc-45e1-a0b8-7b1c174b8714",
   "metadata": {},
   "outputs": [],
   "source": [
    "def read_file():\n",
    "    try:\n",
    "        sea_file = open(\"text_files\\\\fishes.txt\", \"r\")\n",
    "        text = sea_file.read()\n",
    "    except Exception as err:\n",
    "        errno, strerror = err.args\n",
    "        print(f\"Error Number > {errno}   Error String > {strerror} \")\n",
    "        if errno == 2:\n",
    "            print(\"check file or folder name\")\n",
    "    else:\n",
    "        print(\"fishes.txt was opened in read mode\")\n",
    "        text_list = text.split(sep = ' ')\n",
    "        new_text = []\n",
    "        for sub in text_list:\n",
    "            if sub != '':\n",
    "                new_text.append(sub.replace(\"\\n\", \"\"))\n",
    "        return new_text # return text which is got from the text file as a list\n",
    "        sea_file.close()"
   ]
  },
  {
   "cell_type": "code",
   "execution_count": 5,
   "id": "58228274-5414-4d1f-b561-c876e742e5ea",
   "metadata": {},
   "outputs": [
    {
     "name": "stdout",
     "output_type": "stream",
     "text": [
      "fishes.txt was opened in read mode\n",
      "['Orca', 'is', 'a', 'kind', 'of', 'Dolphin.Blue', 'Whale', 'is', 'the', 'largest', 'animal', 'known', 'on', 'earth.Sharks', 'are', 'the', 'sister', 'group', 'to', 'the', 'Rays', '(batoids).The', 'Tuna', 'Fish', 'can', 'weigh', 'up', 'to', '260', 'kg.Squid', 'and', 'Octopus', 'are', 'in', 'the', 'same', 'class.', 'These', 'crazy', 'looking', 'marine', 'animals', 'wave', 'their', '“feathers”', 'to', 'get', 'around', 'underwater.The', 'glaucus', 'atlanticus,', 'aka.', 'the', '“blue', 'dragon”', 'is', 'a', 'type', 'of', 'stinging', 'sea', 'slug!', 'These', 'crazy', 'looking', 'marine', 'animals', 'wave', 'their', '“feathers”', 'to', 'get', 'around', 'underwater.The', 'glaucus', 'atlanticus,', 'aka.', 'the', '“blue', 'dragon”', 'is', 'a', 'type', 'of', 'stinging', 'sea', 'slug!']\n"
     ]
    }
   ],
   "source": [
    "print(read_file())"
   ]
  },
  {
   "cell_type": "code",
   "execution_count": 6,
   "id": "b42d0085-73e1-4da0-9073-5adbe64c463e",
   "metadata": {},
   "outputs": [
    {
     "ename": "IndentationError",
     "evalue": "unexpected indent (Temp/ipykernel_45340/4086478149.py, line 19)",
     "output_type": "error",
     "traceback": [
      "\u001b[1;36m  File \u001b[1;32m\"C:\\Users\\AGA\\AppData\\Local\\Temp/ipykernel_45340/4086478149.py\"\u001b[1;36m, line \u001b[1;32m19\u001b[0m\n\u001b[1;33m    sea_file.close()\u001b[0m\n\u001b[1;37m    ^\u001b[0m\n\u001b[1;31mIndentationError\u001b[0m\u001b[1;31m:\u001b[0m unexpected indent\n"
     ]
    }
   ],
   "source": [
    "def read_size(size):\n",
    "    try:\n",
    "        sea_file = open(\"text_files\\\\fishes.txt\", \"r\")\n",
    "        text = sea_file.read(size)\n",
    "    except Exception as err:\n",
    "        errno, strerror = err.args\n",
    "        print(f\"Error Number > {errno}   Error String > {strerror} \")\n",
    "        if errno == 2:\n",
    "            print(\"check file or folder name\")\n",
    "    else:\n",
    "        print(\"fishes.txt was opened in read mode\")\n",
    "        text_list = text.split(sep = ' ')\n",
    "        new_text = []\n",
    "        for sub in text_list:\n",
    "            if sub != '':\n",
    "                new_text.append(sub.replace(\"\\n\", \"\"))\n",
    "        return new_text  \n",
    "    \"\"\"up to the specified character from the text file returns text as a list\"\"\"\n",
    "        sea_file.close()"
   ]
  },
  {
   "cell_type": "code",
   "execution_count": null,
   "id": "86e159a6-ba3d-45a1-9270-71edcc5e9cfb",
   "metadata": {},
   "outputs": [],
   "source": [
    "print(read_size(20))"
   ]
  },
  {
   "cell_type": "code",
   "execution_count": null,
   "id": "780e0252-3c43-47d7-8b24-e2a8ca1ba79d",
   "metadata": {},
   "outputs": [],
   "source": [
    "def readline_size(size):\n",
    "    try:\n",
    "        sea_file = open(\"text_files\\\\fishes.txt\", \"r\")\n",
    "        text = sea_file.readline(size)\n",
    "    except Exception as err:\n",
    "        errno, strerror = err.args\n",
    "        print(f\"Error Number > {errno}   Error String > {strerror} \")\n",
    "        if errno == 2:\n",
    "            print(\"check file or folder name\")\n",
    "    else:\n",
    "        print(\"fishes.txt was opened in read mode\")\n",
    "        text_list = text.split(sep = ' ')\n",
    "        new_text = []\n",
    "        for sub in text_list:\n",
    "            if sub != '':\n",
    "                new_text.append(sub.replace(\"\\n\", \"\"))\n",
    "        return new_text # return text which is got from the text file as a list\n",
    "        sea_file.close()"
   ]
  },
  {
   "cell_type": "code",
   "execution_count": null,
   "id": "6b1560c7-c87d-403c-aa12-1c35965c3843",
   "metadata": {},
   "outputs": [],
   "source": [
    "readline_size(10)"
   ]
  },
  {
   "cell_type": "code",
   "execution_count": null,
   "id": "1a16fd42-e4bc-4c23-a995-cb9a7b48ba40",
   "metadata": {},
   "outputs": [],
   "source": [
    "def readlines(size):\n",
    "    try:\n",
    "        sea_file = open(\"text_files\\\\fishes.txt\", \"r\")\n",
    "        text = sea_file.readlines(size)\n",
    "    except Exception as err:\n",
    "        errno, strerror = err.args\n",
    "        print(f\"Error Number > {errno}   Error String > {strerror} \")\n",
    "        if errno == 2:\n",
    "            print(\"check file or folder name\")\n",
    "    else:\n",
    "        print(\"fishes.txt was opened in read mode\")\n",
    "        return text # return text which is got from the text file\n",
    "        sea_file.close()"
   ]
  },
  {
   "cell_type": "code",
   "execution_count": null,
   "id": "4ec2d70c-e116-4024-8d46-9e4b8186b1d1",
   "metadata": {},
   "outputs": [],
   "source": [
    "readlines(30)"
   ]
  },
  {
   "cell_type": "code",
   "execution_count": 10,
   "id": "f9d366eb-9974-4796-9362-1fc05b50c555",
   "metadata": {},
   "outputs": [
    {
     "name": "stdout",
     "output_type": "stream",
     "text": [
      "Orca is a kind of Dolphin.\n",
      "\n",
      "Blue Whale is the largest animal known on earth.\n",
      "\n",
      "Sharks are the sister group to the Rays (batoids).\n",
      "\n",
      "The Tuna Fish can weigh up to 260 kg.\n",
      "\n",
      "Squid and Octopus are in the same class.\n",
      "\n",
      "            These crazy looking marine animals wave their “feathers” to get around underwater.\n",
      "\n",
      "The glaucus atlanticus, aka. the “blue dragon” is a type of stinging sea slug! These crazy looking marine animals wave their “feathers” to get around underwater.\n",
      "\n",
      "The glaucus atlanticus, aka. the “blue dragon” is a type of stinging sea slug! \n"
     ]
    }
   ],
   "source": [
    "def looplines():\n",
    "    try:\n",
    "        sea_file = open(\"text_files\\\\fishes.txt\", \"r\")\n",
    "        text = sea_file.readlines()\n",
    "    except Exception as err:\n",
    "        errno, strerror = err.args\n",
    "        print(f\"Error Number > {errno}   Error String > {strerror} \")\n",
    "        if errno == 2:\n",
    "            print(\"check file or folder name\")\n",
    "    else:\n",
    "       # print(\"fishes.txt was opened in read mode\")\n",
    "        for line in text:\n",
    "            print(line)\n",
    "        sea_file.close()\n",
    "looplines()"
   ]
  },
  {
   "cell_type": "code",
   "execution_count": 7,
   "id": "7113e56b-4790-49b8-b58d-125a759ecafc",
   "metadata": {},
   "outputs": [
    {
     "ename": "NameError",
     "evalue": "name 'looplines' is not defined",
     "output_type": "error",
     "traceback": [
      "\u001b[1;31m---------------------------------------------------------------------------\u001b[0m",
      "\u001b[1;31mNameError\u001b[0m                                 Traceback (most recent call last)",
      "\u001b[1;32m~\\AppData\\Local\\Temp/ipykernel_45340/1169798761.py\u001b[0m in \u001b[0;36m<module>\u001b[1;34m\u001b[0m\n\u001b[1;32m----> 1\u001b[1;33m \u001b[0mlooplines\u001b[0m\u001b[1;33m(\u001b[0m\u001b[1;33m)\u001b[0m\u001b[1;33m\u001b[0m\u001b[1;33m\u001b[0m\u001b[0m\n\u001b[0m",
      "\u001b[1;31mNameError\u001b[0m: name 'looplines' is not defined"
     ]
    }
   ],
   "source": []
  },
  {
   "cell_type": "code",
   "execution_count": null,
   "id": "887a67ec-7805-45b9-9252-4bfb722dba5e",
   "metadata": {},
   "outputs": [],
   "source": [
    "def cursor_pos(pos):\n",
    "    try:\n",
    "        sea_file = open(\"text_files\\\\fishes.txt\", \"r\")\n",
    "        \n",
    "    except Exception as err:\n",
    "        errno, strerror = err.args\n",
    "        print(f\"Error Number > {errno}   Error String > {strerror} \")\n",
    "        if errno == 2:\n",
    "            print(\"check file or folder name\")\n",
    "    else:\n",
    "        sea_file.seek(pos + 10) # position cursor at specified location\n",
    "        cur_pos = sea_file.tell() # get position of the cursor\n",
    "        sea_file.close()\n",
    "        return cur_pos # return cursor position"
   ]
  },
  {
   "cell_type": "code",
   "execution_count": null,
   "id": "e711ec92-93bc-46d4-aa99-0ed5b6cf3f54",
   "metadata": {},
   "outputs": [],
   "source": [
    "cursor_pos(5)"
   ]
  }
 ],
 "metadata": {
  "kernelspec": {
   "display_name": "Python 3 (ipykernel)",
   "language": "python",
   "name": "python3"
  },
  "language_info": {
   "codemirror_mode": {
    "name": "ipython",
    "version": 3
   },
   "file_extension": ".py",
   "mimetype": "text/x-python",
   "name": "python",
   "nbconvert_exporter": "python",
   "pygments_lexer": "ipython3",
   "version": "3.9.7"
  }
 },
 "nbformat": 4,
 "nbformat_minor": 5
}
